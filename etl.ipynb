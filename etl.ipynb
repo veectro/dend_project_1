{
 "cells": [
  {
   "cell_type": "markdown",
   "metadata": {},
   "source": [
    "# ETL Processes\n",
    "Use this notebook to develop the ETL process for each of your tables before completing the `etl.py` file to load the whole datasets."
   ]
  },
  {
   "cell_type": "code",
   "execution_count": 1,
   "metadata": {},
   "outputs": [],
   "source": [
    "import os\n",
    "import glob\n",
    "import psycopg2\n",
    "import pandas as pd\n",
    "from sql_queries import *"
   ]
  },
  {
   "cell_type": "code",
   "execution_count": 2,
   "metadata": {},
   "outputs": [],
   "source": [
    "conn = psycopg2.connect(\"host=127.0.0.1 dbname=sparkifydb user=student password=student\")\n",
    "cur = conn.cursor()"
   ]
  },
  {
   "cell_type": "code",
   "execution_count": 3,
   "metadata": {},
   "outputs": [],
   "source": [
    "def get_files(filepath):\n",
    "    all_files = []\n",
    "    for root, dirs, files in os.walk(filepath):\n",
    "        files = glob.glob(os.path.join(root, '*.json'))\n",
    "        for f in files:\n",
    "            all_files.append(os.path.abspath(f))\n",
    "\n",
    "    return all_files"
   ]
  },
  {
   "cell_type": "markdown",
   "metadata": {},
   "source": [
    "# Process `song_data`\n",
    "In this first part, you'll perform ETL on the first dataset, `song_data`, to create the `songs` and `artists` dimensional tables.\n",
    "\n",
    "Let's perform ETL on a single song file and load a single record into each table to start.\n",
    "- Use the `get_files` function provided above to get a list of all song JSON files in `data/song_data`\n",
    "- Select the first song in this list\n",
    "- Read the song file and view the data"
   ]
  },
  {
   "cell_type": "code",
   "execution_count": 4,
   "metadata": {},
   "outputs": [],
   "source": [
    "song_files = get_files('data/song_data')"
   ]
  },
  {
   "cell_type": "code",
   "execution_count": 5,
   "metadata": {},
   "outputs": [
    {
     "data": {
      "text/plain": "'/home/sfrozy/PycharmProjects/Udacity-DEND/project_1_data_modelling_with_postgres/data/song_data/A/B/B/TRABBNP128F932546F.json'"
     },
     "execution_count": 5,
     "metadata": {},
     "output_type": "execute_result"
    }
   ],
   "source": [
    "filepath = song_files[0]\n",
    "filepath"
   ]
  },
  {
   "cell_type": "code",
   "execution_count": 6,
   "metadata": {},
   "outputs": [
    {
     "data": {
      "text/plain": "   num_songs           artist_id  artist_latitude  artist_longitude  \\\n0          1  AR62SOJ1187FB47BB5              NaN               NaN   \n\n  artist_location     artist_name             song_id      title   duration  \\\n0                  Chase & Status  SOGVQGJ12AB017F169  Ten Tonne  337.68444   \n\n   year  \n0  2005  ",
      "text/html": "<div>\n<style scoped>\n    .dataframe tbody tr th:only-of-type {\n        vertical-align: middle;\n    }\n\n    .dataframe tbody tr th {\n        vertical-align: top;\n    }\n\n    .dataframe thead th {\n        text-align: right;\n    }\n</style>\n<table border=\"1\" class=\"dataframe\">\n  <thead>\n    <tr style=\"text-align: right;\">\n      <th></th>\n      <th>num_songs</th>\n      <th>artist_id</th>\n      <th>artist_latitude</th>\n      <th>artist_longitude</th>\n      <th>artist_location</th>\n      <th>artist_name</th>\n      <th>song_id</th>\n      <th>title</th>\n      <th>duration</th>\n      <th>year</th>\n    </tr>\n  </thead>\n  <tbody>\n    <tr>\n      <th>0</th>\n      <td>1</td>\n      <td>AR62SOJ1187FB47BB5</td>\n      <td>NaN</td>\n      <td>NaN</td>\n      <td></td>\n      <td>Chase &amp; Status</td>\n      <td>SOGVQGJ12AB017F169</td>\n      <td>Ten Tonne</td>\n      <td>337.68444</td>\n      <td>2005</td>\n    </tr>\n  </tbody>\n</table>\n</div>"
     },
     "execution_count": 6,
     "metadata": {},
     "output_type": "execute_result"
    }
   ],
   "source": [
    "df = pd.read_json(filepath, lines=True)\n",
    "df.head()"
   ]
  },
  {
   "cell_type": "code",
   "execution_count": 7,
   "outputs": [
    {
     "data": {
      "text/plain": "num_songs             int64\nartist_id            object\nartist_latitude     float64\nartist_longitude    float64\nartist_location      object\nartist_name          object\nsong_id              object\ntitle                object\nduration            float64\nyear                  int64\ndtype: object"
     },
     "execution_count": 7,
     "metadata": {},
     "output_type": "execute_result"
    }
   ],
   "source": [
    "df.dtypes"
   ],
   "metadata": {
    "collapsed": false,
    "pycharm": {
     "name": "#%%\n"
    }
   }
  },
  {
   "cell_type": "markdown",
   "metadata": {},
   "source": [
    "## #1: `songs` Table\n",
    "#### Extract Data for Songs Table\n",
    "- Select columns for song ID, title, artist ID, year, and duration\n",
    "- Use `df.values` to select just the values from the dataframe\n",
    "- Index to select the first (only) record in the dataframe\n",
    "- Convert the array to a list and set it to `song_data`"
   ]
  },
  {
   "cell_type": "code",
   "execution_count": 8,
   "metadata": {},
   "outputs": [
    {
     "data": {
      "text/plain": "['SOGVQGJ12AB017F169', 'Ten Tonne', 'AR62SOJ1187FB47BB5', 2005, 337.68444]"
     },
     "execution_count": 8,
     "metadata": {},
     "output_type": "execute_result"
    }
   ],
   "source": [
    "song_data = df[['song_id', 'title', 'artist_id', 'year', 'duration']].values[0].tolist()\n",
    "song_data"
   ]
  },
  {
   "cell_type": "markdown",
   "metadata": {},
   "source": [
    "#### Insert Record into Song Table\n",
    "Implement the `song_table_insert` query in `sql_queries.py` and run the cell below to insert a record for this song into the `songs` table. Remember to run `create_tables.py` before running the cell below to ensure you've created/resetted the `songs` table in the sparkify database."
   ]
  },
  {
   "cell_type": "code",
   "execution_count": 9,
   "metadata": {},
   "outputs": [],
   "source": [
    "cur.execute(song_table_insert, song_data)\n",
    "conn.commit()"
   ]
  },
  {
   "cell_type": "markdown",
   "metadata": {},
   "source": [
    "Run `test.ipynb` to see if you've successfully added a record to this table."
   ]
  },
  {
   "cell_type": "markdown",
   "metadata": {},
   "source": [
    "## #2: `artists` Table\n",
    "#### Extract Data for Artists Table\n",
    "- Select columns for artist ID, name, location, latitude, and longitude\n",
    "- Use `df.values` to select just the values from the dataframe\n",
    "- Index to select the first (only) record in the dataframe\n",
    "- Convert the array to a list and set it to `artist_data`"
   ]
  },
  {
   "cell_type": "code",
   "execution_count": 10,
   "metadata": {},
   "outputs": [
    {
     "data": {
      "text/plain": "['AR62SOJ1187FB47BB5', 'Chase & Status', '', nan, nan]"
     },
     "execution_count": 10,
     "metadata": {},
     "output_type": "execute_result"
    }
   ],
   "source": [
    "artist_data = df[['artist_id', 'artist_name', 'artist_location', 'artist_latitude', 'artist_longitude']].values[\n",
    "    0].tolist()\n",
    "artist_data"
   ]
  },
  {
   "cell_type": "markdown",
   "metadata": {},
   "source": [
    "#### Insert Record into Artist Table\n",
    "Implement the `artist_table_insert` query in `sql_queries.py` and run the cell below to insert a record for this song's artist into the `artists` table. Remember to run `create_tables.py` before running the cell below to ensure you've created/resetted the `artists` table in the sparkify database."
   ]
  },
  {
   "cell_type": "code",
   "execution_count": 11,
   "metadata": {},
   "outputs": [],
   "source": [
    "cur.execute(artist_table_insert, artist_data)\n",
    "conn.commit()"
   ]
  },
  {
   "cell_type": "markdown",
   "metadata": {},
   "source": [
    "Run `test.ipynb` to see if you've successfully added a record to this table."
   ]
  },
  {
   "cell_type": "markdown",
   "metadata": {},
   "source": [
    "# Process `log_data`\n",
    "In this part, you'll perform ETL on the second dataset, `log_data`, to create the `time` and `users` dimensional tables, as well as the `songplays` fact table.\n",
    "\n",
    "Let's perform ETL on a single log file and load a single record into each table.\n",
    "- Use the `get_files` function provided above to get a list of all log JSON files in `data/log_data`\n",
    "- Select the first log file in this list\n",
    "- Read the log file and view the data"
   ]
  },
  {
   "cell_type": "code",
   "execution_count": 12,
   "metadata": {},
   "outputs": [],
   "source": [
    "log_files = get_files('data/log_data')"
   ]
  },
  {
   "cell_type": "code",
   "execution_count": 13,
   "metadata": {},
   "outputs": [
    {
     "data": {
      "text/plain": "'/home/sfrozy/PycharmProjects/Udacity-DEND/project_1_data_modelling_with_postgres/data/log_data/2018/11/2018-11-17-events.json'"
     },
     "execution_count": 13,
     "metadata": {},
     "output_type": "execute_result"
    }
   ],
   "source": [
    "filepath = log_files[0]\n",
    "filepath"
   ]
  },
  {
   "cell_type": "code",
   "execution_count": 14,
   "metadata": {},
   "outputs": [
    {
     "data": {
      "text/plain": "            artist       auth firstName gender  itemInSession lastName  \\\n0          Kenny G  Logged In     Chloe      F             53   Cuevas   \n1   Randy Crawford  Logged In     Chloe      F             54   Cuevas   \n2          Placebo  Logged In     Chloe      F             55   Cuevas   \n3  Poison The Well  Logged In     Chloe      F             56   Cuevas   \n4    Justin Bieber  Logged In     Chloe      F             57   Cuevas   \n\n      length level                           location method      page  \\\n0  256.57424  paid  San Francisco-Oakland-Hayward, CA    PUT  NextSong   \n1  251.40200  paid  San Francisco-Oakland-Hayward, CA    PUT  NextSong   \n2  224.02567  paid  San Francisco-Oakland-Hayward, CA    PUT  NextSong   \n3  184.60689  paid  San Francisco-Oakland-Hayward, CA    PUT  NextSong   \n4  196.88444  paid  San Francisco-Oakland-Hayward, CA    PUT  NextSong   \n\n   registration  sessionId                                 song  status  \\\n0  1.540941e+12        648                          Everlasting     200   \n1  1.540941e+12        648  Rio De Janeiro Blue (Album Version)     200   \n2  1.540941e+12        648                   Breathe Underwater     200   \n3  1.540941e+12        648                            Riverside     200   \n4  1.540941e+12        648                              U Smile     200   \n\n              ts                                          userAgent userId  \n0  1542412944796  Mozilla/5.0 (Windows NT 5.1; rv:31.0) Gecko/20...     49  \n1  1542413200796  Mozilla/5.0 (Windows NT 5.1; rv:31.0) Gecko/20...     49  \n2  1542413451796  Mozilla/5.0 (Windows NT 5.1; rv:31.0) Gecko/20...     49  \n3  1542413675796  Mozilla/5.0 (Windows NT 5.1; rv:31.0) Gecko/20...     49  \n4  1542413859796  Mozilla/5.0 (Windows NT 5.1; rv:31.0) Gecko/20...     49  ",
      "text/html": "<div>\n<style scoped>\n    .dataframe tbody tr th:only-of-type {\n        vertical-align: middle;\n    }\n\n    .dataframe tbody tr th {\n        vertical-align: top;\n    }\n\n    .dataframe thead th {\n        text-align: right;\n    }\n</style>\n<table border=\"1\" class=\"dataframe\">\n  <thead>\n    <tr style=\"text-align: right;\">\n      <th></th>\n      <th>artist</th>\n      <th>auth</th>\n      <th>firstName</th>\n      <th>gender</th>\n      <th>itemInSession</th>\n      <th>lastName</th>\n      <th>length</th>\n      <th>level</th>\n      <th>location</th>\n      <th>method</th>\n      <th>page</th>\n      <th>registration</th>\n      <th>sessionId</th>\n      <th>song</th>\n      <th>status</th>\n      <th>ts</th>\n      <th>userAgent</th>\n      <th>userId</th>\n    </tr>\n  </thead>\n  <tbody>\n    <tr>\n      <th>0</th>\n      <td>Kenny G</td>\n      <td>Logged In</td>\n      <td>Chloe</td>\n      <td>F</td>\n      <td>53</td>\n      <td>Cuevas</td>\n      <td>256.57424</td>\n      <td>paid</td>\n      <td>San Francisco-Oakland-Hayward, CA</td>\n      <td>PUT</td>\n      <td>NextSong</td>\n      <td>1.540941e+12</td>\n      <td>648</td>\n      <td>Everlasting</td>\n      <td>200</td>\n      <td>1542412944796</td>\n      <td>Mozilla/5.0 (Windows NT 5.1; rv:31.0) Gecko/20...</td>\n      <td>49</td>\n    </tr>\n    <tr>\n      <th>1</th>\n      <td>Randy Crawford</td>\n      <td>Logged In</td>\n      <td>Chloe</td>\n      <td>F</td>\n      <td>54</td>\n      <td>Cuevas</td>\n      <td>251.40200</td>\n      <td>paid</td>\n      <td>San Francisco-Oakland-Hayward, CA</td>\n      <td>PUT</td>\n      <td>NextSong</td>\n      <td>1.540941e+12</td>\n      <td>648</td>\n      <td>Rio De Janeiro Blue (Album Version)</td>\n      <td>200</td>\n      <td>1542413200796</td>\n      <td>Mozilla/5.0 (Windows NT 5.1; rv:31.0) Gecko/20...</td>\n      <td>49</td>\n    </tr>\n    <tr>\n      <th>2</th>\n      <td>Placebo</td>\n      <td>Logged In</td>\n      <td>Chloe</td>\n      <td>F</td>\n      <td>55</td>\n      <td>Cuevas</td>\n      <td>224.02567</td>\n      <td>paid</td>\n      <td>San Francisco-Oakland-Hayward, CA</td>\n      <td>PUT</td>\n      <td>NextSong</td>\n      <td>1.540941e+12</td>\n      <td>648</td>\n      <td>Breathe Underwater</td>\n      <td>200</td>\n      <td>1542413451796</td>\n      <td>Mozilla/5.0 (Windows NT 5.1; rv:31.0) Gecko/20...</td>\n      <td>49</td>\n    </tr>\n    <tr>\n      <th>3</th>\n      <td>Poison The Well</td>\n      <td>Logged In</td>\n      <td>Chloe</td>\n      <td>F</td>\n      <td>56</td>\n      <td>Cuevas</td>\n      <td>184.60689</td>\n      <td>paid</td>\n      <td>San Francisco-Oakland-Hayward, CA</td>\n      <td>PUT</td>\n      <td>NextSong</td>\n      <td>1.540941e+12</td>\n      <td>648</td>\n      <td>Riverside</td>\n      <td>200</td>\n      <td>1542413675796</td>\n      <td>Mozilla/5.0 (Windows NT 5.1; rv:31.0) Gecko/20...</td>\n      <td>49</td>\n    </tr>\n    <tr>\n      <th>4</th>\n      <td>Justin Bieber</td>\n      <td>Logged In</td>\n      <td>Chloe</td>\n      <td>F</td>\n      <td>57</td>\n      <td>Cuevas</td>\n      <td>196.88444</td>\n      <td>paid</td>\n      <td>San Francisco-Oakland-Hayward, CA</td>\n      <td>PUT</td>\n      <td>NextSong</td>\n      <td>1.540941e+12</td>\n      <td>648</td>\n      <td>U Smile</td>\n      <td>200</td>\n      <td>1542413859796</td>\n      <td>Mozilla/5.0 (Windows NT 5.1; rv:31.0) Gecko/20...</td>\n      <td>49</td>\n    </tr>\n  </tbody>\n</table>\n</div>"
     },
     "execution_count": 14,
     "metadata": {},
     "output_type": "execute_result"
    }
   ],
   "source": [
    "df = pd.read_json(filepath, lines=True)\n",
    "df.head()"
   ]
  },
  {
   "cell_type": "code",
   "execution_count": 15,
   "outputs": [
    {
     "data": {
      "text/plain": "artist            object\nauth              object\nfirstName         object\ngender            object\nitemInSession      int64\nlastName          object\nlength           float64\nlevel             object\nlocation          object\nmethod            object\npage              object\nregistration     float64\nsessionId          int64\nsong              object\nstatus             int64\nts                 int64\nuserAgent         object\nuserId            object\ndtype: object"
     },
     "execution_count": 15,
     "metadata": {},
     "output_type": "execute_result"
    }
   ],
   "source": [
    "df.dtypes"
   ],
   "metadata": {
    "collapsed": false,
    "pycharm": {
     "name": "#%%\n"
    }
   }
  },
  {
   "cell_type": "markdown",
   "metadata": {},
   "source": [
    "## #3: `time` Table\n",
    "#### Extract Data for Time Table\n",
    "- Filter records by `NextSong` action\n",
    "- Convert the `ts` timestamp column to datetime\n",
    "  - Hint: the current timestamp is in milliseconds\n",
    "- Extract the timestamp, hour, day, week of year, month, year, and weekday from the `ts` column and set `time_data` to a list containing these values in order\n",
    "  - Hint: use pandas' [`dt` attribute](https://pandas.pydata.org/pandas-docs/stable/reference/api/pandas.Series.dt.html) to access easily datetimelike properties.\n",
    "- Specify labels for these columns and set to `column_labels`\n",
    "- Create a dataframe, `time_df,` containing the time data for this file by combining `column_labels` and `time_data` into a dictionary and converting this into a dataframe"
   ]
  },
  {
   "cell_type": "code",
   "execution_count": 16,
   "outputs": [
    {
     "data": {
      "text/plain": "NextSong    127\nHome         11\nLogin         3\nLogout        2\nAbout         2\nHelp          1\nName: page, dtype: int64"
     },
     "execution_count": 16,
     "metadata": {},
     "output_type": "execute_result"
    }
   ],
   "source": [
    "df['page'].value_counts()"
   ],
   "metadata": {
    "collapsed": false,
    "pycharm": {
     "name": "#%%\n"
    }
   }
  },
  {
   "cell_type": "code",
   "execution_count": 17,
   "metadata": {},
   "outputs": [
    {
     "data": {
      "text/plain": "            artist       auth firstName gender  itemInSession lastName  \\\n0          Kenny G  Logged In     Chloe      F             53   Cuevas   \n1   Randy Crawford  Logged In     Chloe      F             54   Cuevas   \n2          Placebo  Logged In     Chloe      F             55   Cuevas   \n3  Poison The Well  Logged In     Chloe      F             56   Cuevas   \n4    Justin Bieber  Logged In     Chloe      F             57   Cuevas   \n\n      length level                           location method      page  \\\n0  256.57424  paid  San Francisco-Oakland-Hayward, CA    PUT  NextSong   \n1  251.40200  paid  San Francisco-Oakland-Hayward, CA    PUT  NextSong   \n2  224.02567  paid  San Francisco-Oakland-Hayward, CA    PUT  NextSong   \n3  184.60689  paid  San Francisco-Oakland-Hayward, CA    PUT  NextSong   \n4  196.88444  paid  San Francisco-Oakland-Hayward, CA    PUT  NextSong   \n\n   registration  sessionId                                 song  status  \\\n0  1.540941e+12        648                          Everlasting     200   \n1  1.540941e+12        648  Rio De Janeiro Blue (Album Version)     200   \n2  1.540941e+12        648                   Breathe Underwater     200   \n3  1.540941e+12        648                            Riverside     200   \n4  1.540941e+12        648                              U Smile     200   \n\n              ts                                          userAgent userId  \n0  1542412944796  Mozilla/5.0 (Windows NT 5.1; rv:31.0) Gecko/20...     49  \n1  1542413200796  Mozilla/5.0 (Windows NT 5.1; rv:31.0) Gecko/20...     49  \n2  1542413451796  Mozilla/5.0 (Windows NT 5.1; rv:31.0) Gecko/20...     49  \n3  1542413675796  Mozilla/5.0 (Windows NT 5.1; rv:31.0) Gecko/20...     49  \n4  1542413859796  Mozilla/5.0 (Windows NT 5.1; rv:31.0) Gecko/20...     49  ",
      "text/html": "<div>\n<style scoped>\n    .dataframe tbody tr th:only-of-type {\n        vertical-align: middle;\n    }\n\n    .dataframe tbody tr th {\n        vertical-align: top;\n    }\n\n    .dataframe thead th {\n        text-align: right;\n    }\n</style>\n<table border=\"1\" class=\"dataframe\">\n  <thead>\n    <tr style=\"text-align: right;\">\n      <th></th>\n      <th>artist</th>\n      <th>auth</th>\n      <th>firstName</th>\n      <th>gender</th>\n      <th>itemInSession</th>\n      <th>lastName</th>\n      <th>length</th>\n      <th>level</th>\n      <th>location</th>\n      <th>method</th>\n      <th>page</th>\n      <th>registration</th>\n      <th>sessionId</th>\n      <th>song</th>\n      <th>status</th>\n      <th>ts</th>\n      <th>userAgent</th>\n      <th>userId</th>\n    </tr>\n  </thead>\n  <tbody>\n    <tr>\n      <th>0</th>\n      <td>Kenny G</td>\n      <td>Logged In</td>\n      <td>Chloe</td>\n      <td>F</td>\n      <td>53</td>\n      <td>Cuevas</td>\n      <td>256.57424</td>\n      <td>paid</td>\n      <td>San Francisco-Oakland-Hayward, CA</td>\n      <td>PUT</td>\n      <td>NextSong</td>\n      <td>1.540941e+12</td>\n      <td>648</td>\n      <td>Everlasting</td>\n      <td>200</td>\n      <td>1542412944796</td>\n      <td>Mozilla/5.0 (Windows NT 5.1; rv:31.0) Gecko/20...</td>\n      <td>49</td>\n    </tr>\n    <tr>\n      <th>1</th>\n      <td>Randy Crawford</td>\n      <td>Logged In</td>\n      <td>Chloe</td>\n      <td>F</td>\n      <td>54</td>\n      <td>Cuevas</td>\n      <td>251.40200</td>\n      <td>paid</td>\n      <td>San Francisco-Oakland-Hayward, CA</td>\n      <td>PUT</td>\n      <td>NextSong</td>\n      <td>1.540941e+12</td>\n      <td>648</td>\n      <td>Rio De Janeiro Blue (Album Version)</td>\n      <td>200</td>\n      <td>1542413200796</td>\n      <td>Mozilla/5.0 (Windows NT 5.1; rv:31.0) Gecko/20...</td>\n      <td>49</td>\n    </tr>\n    <tr>\n      <th>2</th>\n      <td>Placebo</td>\n      <td>Logged In</td>\n      <td>Chloe</td>\n      <td>F</td>\n      <td>55</td>\n      <td>Cuevas</td>\n      <td>224.02567</td>\n      <td>paid</td>\n      <td>San Francisco-Oakland-Hayward, CA</td>\n      <td>PUT</td>\n      <td>NextSong</td>\n      <td>1.540941e+12</td>\n      <td>648</td>\n      <td>Breathe Underwater</td>\n      <td>200</td>\n      <td>1542413451796</td>\n      <td>Mozilla/5.0 (Windows NT 5.1; rv:31.0) Gecko/20...</td>\n      <td>49</td>\n    </tr>\n    <tr>\n      <th>3</th>\n      <td>Poison The Well</td>\n      <td>Logged In</td>\n      <td>Chloe</td>\n      <td>F</td>\n      <td>56</td>\n      <td>Cuevas</td>\n      <td>184.60689</td>\n      <td>paid</td>\n      <td>San Francisco-Oakland-Hayward, CA</td>\n      <td>PUT</td>\n      <td>NextSong</td>\n      <td>1.540941e+12</td>\n      <td>648</td>\n      <td>Riverside</td>\n      <td>200</td>\n      <td>1542413675796</td>\n      <td>Mozilla/5.0 (Windows NT 5.1; rv:31.0) Gecko/20...</td>\n      <td>49</td>\n    </tr>\n    <tr>\n      <th>4</th>\n      <td>Justin Bieber</td>\n      <td>Logged In</td>\n      <td>Chloe</td>\n      <td>F</td>\n      <td>57</td>\n      <td>Cuevas</td>\n      <td>196.88444</td>\n      <td>paid</td>\n      <td>San Francisco-Oakland-Hayward, CA</td>\n      <td>PUT</td>\n      <td>NextSong</td>\n      <td>1.540941e+12</td>\n      <td>648</td>\n      <td>U Smile</td>\n      <td>200</td>\n      <td>1542413859796</td>\n      <td>Mozilla/5.0 (Windows NT 5.1; rv:31.0) Gecko/20...</td>\n      <td>49</td>\n    </tr>\n  </tbody>\n</table>\n</div>"
     },
     "execution_count": 17,
     "metadata": {},
     "output_type": "execute_result"
    }
   ],
   "source": [
    "df = df[df['page'] == 'NextSong']\n",
    "df.head()"
   ]
  },
  {
   "cell_type": "code",
   "execution_count": 18,
   "metadata": {},
   "outputs": [
    {
     "data": {
      "text/plain": "0   2018-11-17 00:02:24.796\n1   2018-11-17 00:06:40.796\n2   2018-11-17 00:10:51.796\n3   2018-11-17 00:14:35.796\n4   2018-11-17 00:17:39.796\nName: ts, dtype: datetime64[ns]"
     },
     "execution_count": 18,
     "metadata": {},
     "output_type": "execute_result"
    }
   ],
   "source": [
    "t = pd.to_datetime(df['ts'], unit='ms')\n",
    "t.head()"
   ]
  },
  {
   "cell_type": "code",
   "execution_count": 19,
   "metadata": {},
   "outputs": [],
   "source": [
    "time_data = [t, t.dt.hour, t.dt.day, t.dt.isocalendar().week, t.dt.month, t.dt.year, t.dt.weekday]\n",
    "column_labels = ['start_time', 'hour', 'day', 'week', 'month', 'year', 'weekday']"
   ]
  },
  {
   "cell_type": "code",
   "execution_count": 20,
   "metadata": {},
   "outputs": [
    {
     "data": {
      "text/plain": "               start_time  hour  day  week  month  year  weekday\n0 2018-11-17 00:02:24.796     0   17    46     11  2018        5\n1 2018-11-17 00:06:40.796     0   17    46     11  2018        5\n2 2018-11-17 00:10:51.796     0   17    46     11  2018        5\n3 2018-11-17 00:14:35.796     0   17    46     11  2018        5\n4 2018-11-17 00:17:39.796     0   17    46     11  2018        5",
      "text/html": "<div>\n<style scoped>\n    .dataframe tbody tr th:only-of-type {\n        vertical-align: middle;\n    }\n\n    .dataframe tbody tr th {\n        vertical-align: top;\n    }\n\n    .dataframe thead th {\n        text-align: right;\n    }\n</style>\n<table border=\"1\" class=\"dataframe\">\n  <thead>\n    <tr style=\"text-align: right;\">\n      <th></th>\n      <th>start_time</th>\n      <th>hour</th>\n      <th>day</th>\n      <th>week</th>\n      <th>month</th>\n      <th>year</th>\n      <th>weekday</th>\n    </tr>\n  </thead>\n  <tbody>\n    <tr>\n      <th>0</th>\n      <td>2018-11-17 00:02:24.796</td>\n      <td>0</td>\n      <td>17</td>\n      <td>46</td>\n      <td>11</td>\n      <td>2018</td>\n      <td>5</td>\n    </tr>\n    <tr>\n      <th>1</th>\n      <td>2018-11-17 00:06:40.796</td>\n      <td>0</td>\n      <td>17</td>\n      <td>46</td>\n      <td>11</td>\n      <td>2018</td>\n      <td>5</td>\n    </tr>\n    <tr>\n      <th>2</th>\n      <td>2018-11-17 00:10:51.796</td>\n      <td>0</td>\n      <td>17</td>\n      <td>46</td>\n      <td>11</td>\n      <td>2018</td>\n      <td>5</td>\n    </tr>\n    <tr>\n      <th>3</th>\n      <td>2018-11-17 00:14:35.796</td>\n      <td>0</td>\n      <td>17</td>\n      <td>46</td>\n      <td>11</td>\n      <td>2018</td>\n      <td>5</td>\n    </tr>\n    <tr>\n      <th>4</th>\n      <td>2018-11-17 00:17:39.796</td>\n      <td>0</td>\n      <td>17</td>\n      <td>46</td>\n      <td>11</td>\n      <td>2018</td>\n      <td>5</td>\n    </tr>\n  </tbody>\n</table>\n</div>"
     },
     "execution_count": 20,
     "metadata": {},
     "output_type": "execute_result"
    }
   ],
   "source": [
    "time_df = pd.DataFrame.from_dict(dict(zip(column_labels, time_data)))\n",
    "time_df.head()"
   ]
  },
  {
   "cell_type": "code",
   "execution_count": 21,
   "outputs": [
    {
     "data": {
      "text/plain": "start_time    datetime64[ns]\nhour                   int64\nday                    int64\nweek                  UInt32\nmonth                  int64\nyear                   int64\nweekday                int64\ndtype: object"
     },
     "execution_count": 21,
     "metadata": {},
     "output_type": "execute_result"
    }
   ],
   "source": [
    "time_df.dtypes"
   ],
   "metadata": {
    "collapsed": false,
    "pycharm": {
     "name": "#%%\n"
    }
   }
  },
  {
   "cell_type": "markdown",
   "metadata": {},
   "source": [
    "#### Insert Records into Time Table\n",
    "Implement the `time_table_insert` query in `sql_queries.py` and run the cell below to insert records for the timestamps in this log file into the `time` table. Remember to run `create_tables.py` before running the cell below to ensure you've created/resetted the `time` table in the sparkify database."
   ]
  },
  {
   "cell_type": "code",
   "execution_count": 22,
   "metadata": {},
   "outputs": [],
   "source": [
    "for i, row in time_df.iterrows():\n",
    "    cur.execute(time_table_insert, list(row))\n",
    "    conn.commit()"
   ]
  },
  {
   "cell_type": "markdown",
   "metadata": {},
   "source": [
    "Run `test.ipynb` to see if you've successfully added records to this table."
   ]
  },
  {
   "cell_type": "markdown",
   "metadata": {},
   "source": [
    "## #4: `users` Table\n",
    "#### Extract Data for Users Table\n",
    "- Select columns for user ID, first name, last name, gender and level and set to `user_df`"
   ]
  },
  {
   "cell_type": "code",
   "execution_count": 23,
   "metadata": {},
   "outputs": [
    {
     "data": {
      "text/plain": "  userId firstName lastName gender level\n0     49     Chloe   Cuevas      F  paid\n1     49     Chloe   Cuevas      F  paid\n2     49     Chloe   Cuevas      F  paid\n3     49     Chloe   Cuevas      F  paid\n4     49     Chloe   Cuevas      F  paid",
      "text/html": "<div>\n<style scoped>\n    .dataframe tbody tr th:only-of-type {\n        vertical-align: middle;\n    }\n\n    .dataframe tbody tr th {\n        vertical-align: top;\n    }\n\n    .dataframe thead th {\n        text-align: right;\n    }\n</style>\n<table border=\"1\" class=\"dataframe\">\n  <thead>\n    <tr style=\"text-align: right;\">\n      <th></th>\n      <th>userId</th>\n      <th>firstName</th>\n      <th>lastName</th>\n      <th>gender</th>\n      <th>level</th>\n    </tr>\n  </thead>\n  <tbody>\n    <tr>\n      <th>0</th>\n      <td>49</td>\n      <td>Chloe</td>\n      <td>Cuevas</td>\n      <td>F</td>\n      <td>paid</td>\n    </tr>\n    <tr>\n      <th>1</th>\n      <td>49</td>\n      <td>Chloe</td>\n      <td>Cuevas</td>\n      <td>F</td>\n      <td>paid</td>\n    </tr>\n    <tr>\n      <th>2</th>\n      <td>49</td>\n      <td>Chloe</td>\n      <td>Cuevas</td>\n      <td>F</td>\n      <td>paid</td>\n    </tr>\n    <tr>\n      <th>3</th>\n      <td>49</td>\n      <td>Chloe</td>\n      <td>Cuevas</td>\n      <td>F</td>\n      <td>paid</td>\n    </tr>\n    <tr>\n      <th>4</th>\n      <td>49</td>\n      <td>Chloe</td>\n      <td>Cuevas</td>\n      <td>F</td>\n      <td>paid</td>\n    </tr>\n  </tbody>\n</table>\n</div>"
     },
     "execution_count": 23,
     "metadata": {},
     "output_type": "execute_result"
    }
   ],
   "source": [
    "user_df = df[['userId', 'firstName', 'lastName', 'gender', 'level']]\n",
    "user_df.head()"
   ]
  },
  {
   "cell_type": "markdown",
   "metadata": {},
   "source": [
    "#### Insert Records into Users Table\n",
    "Implement the `user_table_insert` query in `sql_queries.py` and run the cell below to insert records for the users in this log file into the `users` table. Remember to run `create_tables.py` before running the cell below to ensure you've created/resetted the `users` table in the sparkify database."
   ]
  },
  {
   "cell_type": "code",
   "execution_count": 24,
   "metadata": {},
   "outputs": [],
   "source": [
    "for i, row in user_df.iterrows():\n",
    "    cur.execute(user_table_insert, row)\n",
    "    conn.commit()"
   ]
  },
  {
   "cell_type": "markdown",
   "metadata": {},
   "source": [
    "Run `test.ipynb` to see if you've successfully added records to this table."
   ]
  },
  {
   "cell_type": "markdown",
   "metadata": {},
   "source": [
    "## #5: `songplays` Table\n",
    "#### Extract Data and Songplays Table\n",
    "This one is a little more complicated since information from the songs table, artists table, and original log file are all needed for the `songplays` table. Since the log file does not specify an ID for either the song or the artist, you'll need to get the song ID and artist ID by querying the songs and artists tables to find matches based on song title, artist name, and song duration time.\n",
    "- Implement the `song_select` query in `sql_queries.py` to find the song ID and artist ID based on the title, artist name, and duration of a song.\n",
    "- Select the timestamp, user ID, level, song ID, artist ID, session ID, location, and user agent and set to `songplay_data`\n",
    "\n",
    "#### Insert Records into Songplays Table\n",
    "- Implement the `songplay_table_insert` query and run the cell below to insert records for the songplay actions in this log file into the `songplays` table. Remember to run `create_tables.py` before running the cell below to ensure you've created/resetted the `songplays` table in the sparkify database."
   ]
  },
  {
   "cell_type": "code",
   "execution_count": 26,
   "metadata": {},
   "outputs": [],
   "source": [
    "for index, row in df.iterrows():\n",
    "    # get songid and artistid from song and artist tables\n",
    "    cur.execute(song_select, (row.song, row.artist, row.length))\n",
    "    results = cur.fetchone()\n",
    "\n",
    "    if results:\n",
    "        songid, artistid = results\n",
    "    else:\n",
    "        songid, artistid = None, None\n",
    "\n",
    "    # convert miliseconds to timestamp\n",
    "    start_time = pd.to_datetime(row.ts, unit='ms')\n",
    "\n",
    "    # insert songplay record\n",
    "    songplay_data = (start_time, row.userId, row.level, songid, artistid, row.sessionId, row.location, row.userAgent)\n",
    "    cur.execute(songplay_table_insert, songplay_data)\n",
    "    conn.commit()"
   ]
  },
  {
   "cell_type": "markdown",
   "metadata": {},
   "source": [
    "Run `test.ipynb` to see if you've successfully added records to this table."
   ]
  },
  {
   "cell_type": "markdown",
   "metadata": {},
   "source": [
    "# Close Connection to Sparkify Database"
   ]
  },
  {
   "cell_type": "code",
   "execution_count": 27,
   "metadata": {},
   "outputs": [],
   "source": [
    "conn.close()"
   ]
  },
  {
   "cell_type": "markdown",
   "metadata": {},
   "source": [
    "# Implement `etl.py`\n",
    "Use what you've completed in this notebook to implement `etl.py`."
   ]
  },
  {
   "cell_type": "code",
   "execution_count": null,
   "metadata": {},
   "outputs": [],
   "source": []
  }
 ],
 "metadata": {
  "kernelspec": {
   "display_name": "Python 3",
   "language": "python",
   "name": "python3"
  },
  "language_info": {
   "codemirror_mode": {
    "name": "ipython",
    "version": 3
   },
   "file_extension": ".py",
   "mimetype": "text/x-python",
   "name": "python",
   "nbconvert_exporter": "python",
   "pygments_lexer": "ipython3",
   "version": "3.6.3"
  }
 },
 "nbformat": 4,
 "nbformat_minor": 2
}